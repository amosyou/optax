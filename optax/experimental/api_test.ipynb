{
  "cells": [
    {
      "cell_type": "markdown",
      "metadata": {
        "id": "vfWSk55u5_E-"
      },
      "source": [
        "# Example of Solver API usage\n"
      ]
    },
    {
      "cell_type": "code",
      "execution_count": null,
      "metadata": {
        "id": "vzyIF6NW6Dwd"
      },
      "outputs": [],
      "source": [
        "import jax.numpy as jnp\n",
        "import optax\n",
        "from optax.experimental import gradient_solver\n",
        "\n",
        "def obj_fun(x):\n",
        "  return jnp.sum(x**2)\n",
        "\n",
        "init, step = gradient_solver.gradient_solver(\n",
        "    obj_fun, optax.adam(learning_rate=1.)\n",
        "    )\n",
        "\n",
        "params = jnp.arange(16, dtype=jnp.float32)\n",
        "state = init(params)\n",
        "for _ in range(10):\n",
        "  params, state = step(params, state)\n",
        "  print(f'Objective value: {obj_fun(params)}')"
      ]
    }
  ],
  "metadata": {
    "colab": {
      "last_runtime": {
        "build_target": "//learning/grp/tools/ml_python:ml_notebook",
        "kind": "private"
      },
      "private_outputs": true,
      "provenance": []
    },
    "kernelspec": {
      "display_name": "Python 3",
      "name": "python3"
    },
    "language_info": {
      "name": "python"
    }
  },
  "nbformat": 4,
  "nbformat_minor": 0
}
